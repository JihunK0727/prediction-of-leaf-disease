{
  "cells": [
    {
      "cell_type": "markdown",
      "metadata": {
        "id": "cc9F9lxBjhnq"
      },
      "source": [
        "# データ収集"
      ]
    },
    {
      "cell_type": "code",
      "execution_count": null,
      "metadata": {
        "colab": {
          "base_uri": "https://localhost:8080/"
        },
        "id": "jt-cJigHLqQP",
        "outputId": "8efdddd1-6650-4221-edbd-66962325c481"
      },
      "outputs": [
        {
          "output_type": "stream",
          "name": "stdout",
          "text": [
            "2.12.0\n",
            "Num GPUs Available:  0\n"
          ]
        }
      ],
      "source": [
        "import os\n",
        "os.environ['CUDA_VISIBLE_DEVICES'] = '-1'\n",
        "import tensorflow as tf\n",
        "print(tf.__version__)\n",
        "print(\"Num GPUs Available: \", len(tf.config.list_physical_devices('GPU')))\n"
      ]
    },
    {
      "cell_type": "code",
      "execution_count": null,
      "metadata": {
        "colab": {
          "base_uri": "https://localhost:8080/"
        },
        "id": "cgJ1yfmQckH5",
        "outputId": "d460990a-eeb9-4171-a70d-ee8e94a09702"
      },
      "outputs": [
        {
          "output_type": "stream",
          "name": "stdout",
          "text": [
            "Mounted at /content/drive\n"
          ]
        }
      ],
      "source": [
        "from google.colab import drive\n",
        "drive.mount('/content/drive')"
      ]
    },
    {
      "cell_type": "markdown",
      "metadata": {
        "id": "vihvZPy1jl5G"
      },
      "source": [
        "# データの前処理"
      ]
    },
    {
      "cell_type": "markdown",
      "metadata": {
        "id": "0ussnlYWZWvn"
      },
      "source": [
        "[ImageDataGenerator](https://keras.io/ja/preprocessing/image/#imagedatagenerator_2\n",
        ")でデータを増やす"
      ]
    },
    {
      "cell_type": "code",
      "execution_count": null,
      "metadata": {
        "colab": {
          "base_uri": "https://localhost:8080/"
        },
        "id": "ExZIOTTukHi9",
        "outputId": "a9174d1d-45af-417d-ad99-d5632b582838"
      },
      "outputs": [
        {
          "output_type": "stream",
          "name": "stderr",
          "text": [
            "/usr/local/lib/python3.10/dist-packages/keras/preprocessing/image.py:1460: UserWarning: This ImageDataGenerator specifies `featurewise_std_normalization`, which overrides setting of `featurewise_center`.\n",
            "  warnings.warn(\n"
          ]
        },
        {
          "output_type": "stream",
          "name": "stdout",
          "text": [
            "Found 339 images belonging to 11 classes.\n",
            "Found 32 images belonging to 11 classes.\n"
          ]
        }
      ],
      "source": [
        "from tensorflow.keras.preprocessing.image import ImageDataGenerator\n",
        "\n",
        "# ImageDataGeneratorのインスタンスを生成\n",
        "\n",
        "gen = ImageDataGenerator(\n",
        "    featurewise_std_normalization=True,\n",
        "    rotation_range=90,\n",
        "    width_shift_range=0.2,\n",
        "    height_shift_range=0.2,\n",
        "    samplewise_center=True,\n",
        "    zoom_range=0.6,\n",
        "    horizontal_flip=True,\n",
        "    vertical_flip=True,\n",
        "    fill_mode=\"constant\",\n",
        "    validation_split=0.1\n",
        ")\n",
        "\n",
        "# ラベル付けと正規化されたデータのバッチの生成\n",
        "# バッチサイズは32\n",
        "# subsetはvalidation_splitがImageDataGeneratorクラスでvalidation_splitが与えられた時に選択可能\n",
        "train = gen.flow_from_directory(\"/content/drive/MyDrive/植物の病気データ\",\n",
        "    # target_size = (256,256),\n",
        "    class_mode='categorical',\n",
        "    subset = \"training\"\n",
        ")\n",
        "validation = gen.flow_from_directory(\n",
        "    \"/content/drive/MyDrive/植物の病気データ\",\n",
        "    # target_size = (256,256),\n",
        "    class_mode='categorical',\n",
        "    subset = \"validation\"\n",
        ")"
      ]
    },
    {
      "cell_type": "markdown",
      "metadata": {
        "id": "mRcuMCBSxh2N"
      },
      "source": [
        "(premier) : rotation_range=0.2=>45, zoom_range=0.3=>0.5\n",
        "(deuxième) : rotation_range=90, zoom_range=0.6\n",
        "(troisième) : ajouté horizontal & vertical\n"
      ]
    },
    {
      "cell_type": "markdown",
      "metadata": {
        "id": "kUxBagtVsRjV"
      },
      "source": [
        "対応ラベルの確認\n",
        "\n",
        "参考：https://github.com/keras-team/keras-preprocessing/blob/3e380065d4afc7347aaee8d89325a16b22158438/keras_preprocessing/image/directory_iterator.py#L12\n",
        "\n",
        "119行目"
      ]
    },
    {
      "cell_type": "code",
      "execution_count": null,
      "metadata": {
        "id": "69Yev_ESqOdh"
      },
      "outputs": [],
      "source": [
        "label_dic = train.class_indices"
      ]
    },
    {
      "cell_type": "code",
      "execution_count": null,
      "metadata": {
        "colab": {
          "base_uri": "https://localhost:8080/"
        },
        "id": "t89BBNJwss-Y",
        "outputId": "08d6f54c-3dd0-4cee-fac6-3e055e50c2fa"
      },
      "outputs": [
        {
          "output_type": "execute_result",
          "data": {
            "text/plain": [
              "{'うどんこ病': 0,\n",
              " 'もち病': 1,\n",
              " 'ベト病': 2,\n",
              " 'モザイク病': 3,\n",
              " '正常': 4,\n",
              " '炭疽病': 5,\n",
              " '白サビ病': 6,\n",
              " '角斑病': 7,\n",
              " '赤星病': 8,\n",
              " '黒星病': 9,\n",
              " '黒枯病': 10}"
            ]
          },
          "metadata": {},
          "execution_count": 6
        }
      ],
      "source": [
        "label_dic"
      ]
    },
    {
      "cell_type": "markdown",
      "metadata": {
        "id": "vw5o1ks3jr3n"
      },
      "source": [
        "# モデルの導入"
      ]
    },
    {
      "cell_type": "code",
      "execution_count": null,
      "metadata": {
        "id": "GlKsONExofgi"
      },
      "outputs": [],
      "source": [
        "# 必要なモジュールのインポート\n",
        "# tensorflow.kerasから導入\n",
        "from tensorflow.keras.layers import Input,Dense,Flatten,Dropout\n",
        "from tensorflow.keras.optimizers import experimental\n",
        "from tensorflow.keras.applications.resnet50 import ResNet50,preprocess_input\n",
        "from tensorflow.keras import Model"
      ]
    },
    {
      "cell_type": "code",
      "execution_count": null,
      "metadata": {
        "id": "c8lrr-npkIJf",
        "colab": {
          "base_uri": "https://localhost:8080/"
        },
        "outputId": "bfe31161-3eb1-4df0-acfb-72d268c6a2d3"
      },
      "outputs": [
        {
          "output_type": "stream",
          "name": "stdout",
          "text": [
            "Downloading data from https://storage.googleapis.com/tensorflow/keras-applications/resnet/resnet50_weights_tf_dim_ordering_tf_kernels_notop.h5\n",
            "94765736/94765736 [==============================] - 1s 0us/step\n"
          ]
        }
      ],
      "source": [
        "# 今回は好きなものを公式ドキュメントのApplicationsから選択\n",
        "# https://keras.io/ja/applications\n",
        "# include_topをFlaseにして転移学習可能にする\n",
        "ResNet50 = ResNet50(weights='imagenet',include_top=False, input_tensor=Input(shape=(256,256,3\n",
        ")))"
      ]
    },
    {
      "cell_type": "markdown",
      "metadata": {
        "id": "MtvpEifcjwMM"
      },
      "source": [
        "# 転移学習用に再構築"
      ]
    },
    {
      "cell_type": "code",
      "execution_count": null,
      "metadata": {
        "id": "jFjOu93VkIpz"
      },
      "outputs": [],
      "source": [
        "# 追加層\n",
        "inputs = ResNet50.output\n",
        "x = Flatten()(inputs)\n",
        "x = Dense(2048, activation='relu')(x)\n",
        "x = Dropout(0.25)(x)\n",
        "x = Dense(1024,activation='relu')(x)\n",
        "x = Dropout(0.25)(x)\n",
        "\n",
        "prediction = Dense(11,activation='softmax')(x)"
      ]
    },
    {
      "cell_type": "code",
      "execution_count": null,
      "metadata": {
        "id": "yO8gu3yVp_Pj"
      },
      "outputs": [],
      "source": [
        "# 既存層と追加層を繋げる\n",
        "model=Model(inputs=ResNet50.input,outputs=prediction)"
      ]
    },
    {
      "cell_type": "code",
      "execution_count": null,
      "metadata": {
        "id": "Sg6y7pBpgyTe"
      },
      "outputs": [],
      "source": [
        "# モデルの構造を確認\n",
        "model.summary()"
      ]
    },
    {
      "cell_type": "markdown",
      "metadata": {
        "id": "Ex5Sf2Byj1jL"
      },
      "source": [
        "# コンパイル"
      ]
    },
    {
      "cell_type": "markdown",
      "metadata": {
        "id": "RwynYmXEkR21"
      },
      "source": [
        "kerasのoptimizersから好きなものを選択\n",
        "\n",
        "https://keras.io/ja/optimizers/\n",
        "\n",
        "普通のoptimizersだとエラー吐かれるので以下参考\n",
        "\n",
        "https://www.tensorflow.org/api_docs/python/tf/keras/optimizers/experimental/SGD"
      ]
    },
    {
      "cell_type": "code",
      "execution_count": null,
      "metadata": {
        "id": "uGtxtJ0nkJEW"
      },
      "outputs": [],
      "source": [
        "model.compile(optimizer=experimental.SGD(),\n",
        "            loss='categorical_crossentropy',\n",
        "            metrics=['accuracy'])"
      ]
    },
    {
      "cell_type": "markdown",
      "metadata": {
        "id": "Ur7BmQj2j4pd"
      },
      "source": [
        "# 学習"
      ]
    },
    {
      "cell_type": "markdown",
      "metadata": {
        "id": "Q_b4en_i_So_"
      },
      "source": [
        "epochs=10=>15 X\n",
        "epochs=15=>13"
      ]
    },
    {
      "cell_type": "code",
      "execution_count": null,
      "metadata": {
        "colab": {
          "base_uri": "https://localhost:8080/"
        },
        "id": "914guJDUj7ZA",
        "outputId": "a43fd73c-7ab1-4615-c119-8bc438f1de57"
      },
      "outputs": [
        {
          "output_type": "stream",
          "name": "stderr",
          "text": [
            "/usr/local/lib/python3.10/dist-packages/keras/preprocessing/image.py:1861: UserWarning: This ImageDataGenerator specifies `featurewise_center`, but it hasn't been fit on any training data. Fit it first by calling `.fit(numpy_data)`.\n",
            "  warnings.warn(\n",
            "/usr/local/lib/python3.10/dist-packages/keras/preprocessing/image.py:1871: UserWarning: This ImageDataGenerator specifies `featurewise_std_normalization`, but it hasn't been fit on any training data. Fit it first by calling `.fit(numpy_data)`.\n",
            "  warnings.warn(\n"
          ]
        },
        {
          "output_type": "stream",
          "name": "stdout",
          "text": [
            "Epoch 1/13\n"
          ]
        },
        {
          "output_type": "stream",
          "name": "stderr",
          "text": [
            "/usr/local/lib/python3.10/dist-packages/PIL/Image.py:975: UserWarning: Palette images with Transparency expressed in bytes should be converted to RGBA images\n",
            "  warnings.warn(\n"
          ]
        },
        {
          "output_type": "stream",
          "name": "stdout",
          "text": [
            "11/11 [==============================] - 416s 36s/step - loss: 8.6285 - accuracy: 0.1268 - val_loss: 2.9393 - val_accuracy: 0.1875\n",
            "Epoch 2/13\n",
            "11/11 [==============================] - 403s 37s/step - loss: 2.5671 - accuracy: 0.1652 - val_loss: 2.5691 - val_accuracy: 0.2812\n",
            "Epoch 3/13\n",
            "11/11 [==============================] - 407s 37s/step - loss: 2.2666 - accuracy: 0.2861 - val_loss: 3.8177 - val_accuracy: 0.0938\n",
            "Epoch 4/13\n",
            "11/11 [==============================] - 399s 36s/step - loss: 1.8678 - accuracy: 0.3894 - val_loss: 1.9994 - val_accuracy: 0.3750\n",
            "Epoch 5/13\n",
            "11/11 [==============================] - 401s 36s/step - loss: 1.6176 - accuracy: 0.4779 - val_loss: 2.1100 - val_accuracy: 0.4375\n",
            "Epoch 6/13\n",
            "11/11 [==============================] - 392s 35s/step - loss: 1.3866 - accuracy: 0.5369 - val_loss: 2.0248 - val_accuracy: 0.4375\n",
            "Epoch 7/13\n",
            "11/11 [==============================] - 392s 37s/step - loss: 1.2681 - accuracy: 0.5900 - val_loss: 2.3398 - val_accuracy: 0.5000\n",
            "Epoch 8/13\n",
            "11/11 [==============================] - 400s 36s/step - loss: 1.2004 - accuracy: 0.6342 - val_loss: 2.4080 - val_accuracy: 0.4375\n",
            "Epoch 9/13\n",
            "11/11 [==============================] - 392s 36s/step - loss: 1.0071 - accuracy: 0.6637 - val_loss: 1.4023 - val_accuracy: 0.5938\n",
            "Epoch 10/13\n",
            "11/11 [==============================] - 398s 36s/step - loss: 1.0084 - accuracy: 0.6873 - val_loss: 1.8184 - val_accuracy: 0.5312\n",
            "Epoch 11/13\n",
            "11/11 [==============================] - 382s 34s/step - loss: 0.8368 - accuracy: 0.7109 - val_loss: 1.9185 - val_accuracy: 0.5000\n",
            "Epoch 12/13\n",
            "11/11 [==============================] - 385s 35s/step - loss: 0.7531 - accuracy: 0.7670 - val_loss: 1.8593 - val_accuracy: 0.5312\n",
            "Epoch 13/13\n",
            "11/11 [==============================] - 391s 35s/step - loss: 0.7262 - accuracy: 0.7316 - val_loss: 1.4551 - val_accuracy: 0.5312\n"
          ]
        }
      ],
      "source": [
        "history = model.fit(\n",
        "        train,\n",
        "        epochs=13,\n",
        "        verbose=1,\n",
        "        validation_data=validation\n",
        ")"
      ]
    },
    {
      "cell_type": "markdown",
      "metadata": {
        "id": "nlF0F018j9uU"
      },
      "source": [
        "# 分析"
      ]
    },
    {
      "cell_type": "code",
      "execution_count": null,
      "metadata": {
        "id": "8mPq5owXliod"
      },
      "outputs": [],
      "source": [
        "import matplotlib.pyplot as plt"
      ]
    },
    {
      "cell_type": "code",
      "execution_count": null,
      "metadata": {
        "colab": {
          "base_uri": "https://localhost:8080/",
          "height": 453
        },
        "id": "QAUuFw-HkJ5N",
        "outputId": "702da3b2-fe2a-4eb2-d17e-d2f3efdda78f"
      },
      "outputs": [
        {
          "output_type": "execute_result",
          "data": {
            "text/plain": [
              "[<matplotlib.lines.Line2D at 0x7f300d2a8eb0>]"
            ]
          },
          "metadata": {},
          "execution_count": 15
        },
        {
          "output_type": "display_data",
          "data": {
            "text/plain": [
              "<Figure size 640x480 with 1 Axes>"
            ],
            "image/png": "[encoded data removed]"
          },
          "metadata": {}
        }
      ],
      "source": [
        "plt.plot(history.history['accuracy'])\n",
        "plt.plot(history.history['val_accuracy'])"
      ]
    },
    {
      "cell_type": "markdown",
      "metadata": {
        "id": "NbD6qXErj71v"
      },
      "source": [
        "# テスト"
      ]
    },
    {
      "cell_type": "code",
      "execution_count": null,
      "metadata": {
        "id": "BvTN19xDm-Uh"
      },
      "outputs": [],
      "source": [
        "import os\n",
        "import numpy as np\n",
        "from tensorflow.keras.applications.resnet50 import preprocess_input\n",
        "from tensorflow.keras.preprocessing import image"
      ]
    },
    {
      "cell_type": "code",
      "execution_count": null,
      "metadata": {
        "id": "xEduYah_t3LB"
      },
      "outputs": [],
      "source": [
        "# パスの名前からテニスかゴルフかバスケか判断する関数の作成\n",
        "def get_label(path):\n",
        "  if \"うどんこ病\" in path:\n",
        "    return \"うどんこ病\"\n",
        "  elif \"もち病\" in path:\n",
        "    return \"もち病\"\n",
        "  elif \"ベト病\" in path:\n",
        "    return \"ベト病\"\n",
        "  elif \"モザイク病\" in path:\n",
        "    return \"モザイク病\"\n",
        "  elif \"正常\" in path:\n",
        "    return \"正常\"\n",
        "  elif \"炭疽病\" in path:\n",
        "    return \"炭疽病\"\n",
        "  elif \"白サビ病\" in path:\n",
        "    return \"白サビ病\"\n",
        "  elif \"角斑病\" in path:\n",
        "    return \"角斑病\"\n",
        "  elif \"赤星病\" in path:\n",
        "    return \"赤星病\"\n",
        "  elif \"黒星病\" in path:\n",
        "    return \"黒星病\"\n",
        "  elif \"黒枯病\" in path:\n",
        "    return \"黒枯病\"\n",
        "  else:\n",
        "    pass"
      ]
    },
    {
      "cell_type": "code",
      "execution_count": null,
      "metadata": {
        "colab": {
          "base_uri": "https://localhost:8080/"
        },
        "id": "xUWCEc3lj9NU",
        "outputId": "a5f33bbe-faad-4db7-c97b-906831cd7ce0"
      },
      "outputs": [
        {
          "output_type": "stream",
          "name": "stdout",
          "text": [
            "1/1 [==============================] - 3s 3s/step\n",
            "正常 None\n",
            "1/1 [==============================] - 1s 710ms/step\n",
            "モザイク病 None\n",
            "1/1 [==============================] - 1s 854ms/step\n",
            "ベト病 None\n",
            "1/1 [==============================] - 1s 662ms/step\n",
            "白サビ病 None\n",
            "1/1 [==============================] - 0s 370ms/step\n",
            "白サビ病 None\n",
            "1/1 [==============================] - 0s 331ms/step\n",
            "角斑病 None\n",
            "1/1 [==============================] - 0s 330ms/step\n",
            "正常 もち病\n",
            "1/1 [==============================] - 0s 333ms/step\n",
            "正常 もち病\n",
            "1/1 [==============================] - 0s 326ms/step\n",
            "白サビ病 角斑病\n",
            "1/1 [==============================] - 0s 322ms/step\n",
            "黒星病 角斑病\n",
            "1/1 [==============================] - 0s 355ms/step\n",
            "角斑病 黒枯病\n",
            "1/1 [==============================] - 0s 372ms/step\n",
            "角斑病 黒枯病\n",
            "1/1 [==============================] - 1s 517ms/step\n",
            "角斑病 黒星病\n",
            "1/1 [==============================] - 1s 532ms/step\n",
            "黒枯病 黒星病\n",
            "1/1 [==============================] - 1s 528ms/step\n",
            "黒枯病 炭疽病\n",
            "1/1 [==============================] - 0s 484ms/step\n",
            "炭疽病 炭疽病\n",
            "1/1 [==============================] - 0s 338ms/step\n",
            "正常 正常\n",
            "1/1 [==============================] - 0s 329ms/step\n",
            "正常 正常\n",
            "1/1 [==============================] - 0s 333ms/step\n",
            "うどんこ病 赤星病\n",
            "1/1 [==============================] - 0s 360ms/step\n",
            "正常 赤星病\n",
            "1/1 [==============================] - 0s 337ms/step\n",
            "正常 赤星病\n",
            "1/1 [==============================] - 0s 327ms/step\n",
            "白サビ病 None\n",
            "1/1 [==============================] - 0s 346ms/step\n",
            "正常 None\n",
            "正答率は0.13043478260869565\n"
          ]
        }
      ],
      "source": [
        "# テストデータで精度を確認\n",
        "root_path = \"/content/drive/MyDrive/検証\"\n",
        "test_img_list = os.listdir(root_path)\n",
        "true_num = 0\n",
        "false_num = 0\n",
        "for path in test_img_list:\n",
        "  input = image.load_img(os.path.join(root_path,path),target_size=(256,256))\n",
        "  input = np.expand_dims(input,axis=0)\n",
        "  input = preprocess_input(input)\n",
        "  result = model.predict(input)\n",
        "  predict_label = list(label_dic.keys())[np.argmax(result[0])]\n",
        "  acc_label = get_label(path)\n",
        "  print(predict_label, acc_label)\n",
        "  # 正答率計算\n",
        "  if predict_label == acc_label:\n",
        "    true_num += 1\n",
        "\n",
        "print(\"正答率は{}\".format(true_num/(len(test_img_list))))"
      ]
    },
    {
      "cell_type": "code",
      "execution_count": null,
      "metadata": {
        "colab": {
          "base_uri": "https://localhost:8080/"
        },
        "id": "68XVrR0kgjgs",
        "outputId": "a8f7e1d3-d8ed-4e32-c56d-37600bc61e6b"
      },
      "outputs": [
        {
          "name": "stdout",
          "output_type": "stream",
          "text": [
            "leaf-spot-fungus.webp\n"
          ]
        }
      ],
      "source": [
        "print(path)"
      ]
    },
    {
      "cell_type": "markdown",
      "metadata": {
        "id": "QIB6rQTzkDsX"
      },
      "source": [
        "# モデル保存"
      ]
    },
    {
      "cell_type": "code",
      "execution_count": null,
      "metadata": {
        "colab": {
          "base_uri": "https://localhost:8080/"
        },
        "id": "T6ANvu1MEp8P",
        "outputId": "da9d679a-e437-419d-a73f-c9b10680db46"
      },
      "outputs": [
        {
          "data": {
            "text/plain": [
              "<keras.engine.functional.Functional at 0x7efd0819ab50>"
            ]
          },
          "execution_count": 19,
          "metadata": {},
          "output_type": "execute_result"
        }
      ],
      "source": [
        "model"
      ]
    },
    {
      "cell_type": "markdown",
      "metadata": {
        "id": "rsl-UzFnGGjV"
      },
      "source": [
        "[Savedmodel](https://www.tensorflow.org/guide/keras/save_and_serialize?hl=ja#savedmodel_%E5%BD%A2%E5%BC%8F)形式で保存\n"
      ]
    },
    {
      "cell_type": "code",
      "execution_count": null,
      "metadata": {
        "colab": {
          "base_uri": "https://localhost:8080/"
        },
        "id": "NdVSNqKlkKQr",
        "outputId": "648547b9-7551-4c92-b624-a089bc91f55a"
      },
      "outputs": [
        {
          "name": "stderr",
          "output_type": "stream",
          "text": [
            "WARNING:absl:Found untraced functions such as _jit_compiled_convolution_op, _jit_compiled_convolution_op, _jit_compiled_convolution_op, _jit_compiled_convolution_op, _jit_compiled_convolution_op while saving (showing 5 of 53). These functions will not be directly callable after loading.\n"
          ]
        }
      ],
      "source": [
        "# モデルが良ければ保存\n",
        "model.save(\"./ball\")"
      ]
    },
    {
      "cell_type": "code",
      "execution_count": null,
      "metadata": {
        "id": "BS_D80peGAYG"
      },
      "outputs": [],
      "source": [
        "from tensorflow.keras.models import load_model\n",
        "model = load_model(\"./ball\")"
      ]
    },
    {
      "cell_type": "code",
      "execution_count": null,
      "metadata": {
        "colab": {
          "base_uri": "https://localhost:8080/"
        },
        "id": "7P0qOY0BGh5l",
        "outputId": "5477ab58-c0a1-45a2-8013-f0c27c7d39fd"
      },
      "outputs": [
        {
          "data": {
            "text/plain": [
              "<bound method Model.summary of <keras.engine.functional.Functional object at 0x7efc762988e0>>"
            ]
          },
          "execution_count": 22,
          "metadata": {},
          "output_type": "execute_result"
        }
      ],
      "source": [
        "model.summary"
      ]
    },
    {
      "cell_type": "code",
      "execution_count": null,
      "metadata": {
        "colab": {
          "base_uri": "https://localhost:8080/"
        },
        "id": "jnGbbd0pGvcd",
        "outputId": "89260b6f-4ddb-45aa-b2c1-9dd549e8b089"
      },
      "outputs": [
        {
          "name": "stdout",
          "output_type": "stream",
          "text": [
            "1/1 [==============================] - 2s 2s/step\n",
            "golfball golfball\n",
            "1/1 [==============================] - 0s 43ms/step\n",
            "tennisball golfball\n",
            "1/1 [==============================] - 0s 33ms/step\n",
            "golfball golfball\n",
            "1/1 [==============================] - 0s 30ms/step\n",
            "golfball golfball\n",
            "1/1 [==============================] - 0s 31ms/step\n",
            "tennisball golfball\n",
            "1/1 [==============================] - 0s 30ms/step\n",
            "basketball basketball\n",
            "1/1 [==============================] - 0s 32ms/step\n",
            "basketball basketball\n",
            "1/1 [==============================] - 0s 30ms/step\n",
            "basketball basketball\n",
            "1/1 [==============================] - 0s 31ms/step\n",
            "basketball basketball\n",
            "1/1 [==============================] - 0s 29ms/step\n",
            "basketball basketball\n",
            "1/1 [==============================] - 0s 29ms/step\n",
            "tennisball tennisball\n",
            "1/1 [==============================] - 0s 30ms/step\n",
            "tennisball tennisball\n",
            "1/1 [==============================] - 0s 39ms/step\n",
            "tennisball tennisball\n",
            "1/1 [==============================] - 0s 32ms/step\n",
            "tennisball tennisball\n",
            "1/1 [==============================] - 0s 30ms/step\n",
            "basketball tennisball\n",
            "正答率は0.8\n"
          ]
        }
      ],
      "source": [
        "# テストデータで精度を確認\n",
        "root_path = \"./test_data\"\n",
        "test_img_list = os.listdir(root_path)\n",
        "true_num = 0\n",
        "false_num = 0\n",
        "for path in test_img_list:\n",
        "  input = image.load_img(os.path.join(root_path,path),target_size=(256,256))\n",
        "  input = np.expand_dims(input,axis=0)\n",
        "  input = preprocess_input(input)\n",
        "  result = model.predict(input)\n",
        "  predict_label = list(label_dic.keys())[np.argmax(result[0])]\n",
        "  acc_label = get_label(path)\n",
        "  print(predict_label, acc_label)\n",
        "  # 正答率計算\n",
        "  if predict_label == acc_label:\n",
        "    true_num += 1\n",
        "\n",
        "print(\"正答率は{}\".format(true_num/(len(test_img_list))))"
      ]
    },
    {
      "cell_type": "code",
      "execution_count": null,
      "metadata": {
        "id": "172YV53fG5HN"
      },
      "outputs": [],
      "source": [
        "model.save(\"./ball.h5\")"
      ]
    },
    {
      "cell_type": "code",
      "execution_count": null,
      "metadata": {
        "id": "GRqNJMxyJEqR"
      },
      "outputs": [],
      "source": [
        "modelh5 = load_model(\"./ball.h5\")"
      ]
    },
    {
      "cell_type": "code",
      "execution_count": null,
      "metadata": {
        "colab": {
          "base_uri": "https://localhost:8080/"
        },
        "id": "Q6kwiv3mJJuJ",
        "outputId": "e252b493-739a-44b4-aaaf-951a33d539c6"
      },
      "outputs": [
        {
          "name": "stdout",
          "output_type": "stream",
          "text": [
            "1/1 [==============================] - 2s 2s/step\n",
            "golfball golfball\n",
            "1/1 [==============================] - 0s 43ms/step\n",
            "tennisball golfball\n",
            "1/1 [==============================] - 0s 28ms/step\n",
            "golfball golfball\n",
            "1/1 [==============================] - 0s 27ms/step\n",
            "golfball golfball\n",
            "1/1 [==============================] - 0s 27ms/step\n",
            "tennisball golfball\n",
            "1/1 [==============================] - 0s 28ms/step\n",
            "basketball basketball\n",
            "1/1 [==============================] - 0s 32ms/step\n",
            "basketball basketball\n",
            "1/1 [==============================] - 0s 27ms/step\n",
            "basketball basketball\n",
            "1/1 [==============================] - 0s 28ms/step\n",
            "basketball basketball\n",
            "1/1 [==============================] - 0s 28ms/step\n",
            "basketball basketball\n",
            "1/1 [==============================] - 0s 27ms/step\n",
            "tennisball tennisball\n",
            "1/1 [==============================] - 0s 26ms/step\n",
            "tennisball tennisball\n",
            "1/1 [==============================] - 0s 31ms/step\n",
            "tennisball tennisball\n",
            "1/1 [==============================] - 0s 28ms/step\n",
            "tennisball tennisball\n",
            "1/1 [==============================] - 0s 29ms/step\n",
            "basketball tennisball\n",
            "正答率は0.8\n"
          ]
        }
      ],
      "source": [
        "# テストデータで精度を確認\n",
        "root_path = \"test_data\"\n",
        "test_img_list = os.listdir(root_path)\n",
        "true_num = 0\n",
        "false_num = 0\n",
        "for path in test_img_list:\n",
        "  input = image.load_img(os.path.join(root_path,path),target_size=(256,256))\n",
        "  input = np.expand_dims(input,axis=0)\n",
        "  input = preprocess_input(input)\n",
        "  result = modelh5.predict(input)\n",
        "  predict_label = list(label_dic.keys())[np.argmax(result[0])]\n",
        "  acc_label = get_label(path)\n",
        "  print(predict_label, acc_label)\n",
        "  # 正答率計算\n",
        "  if predict_label == acc_label:\n",
        "    true_num += 1\n",
        "\n",
        "print(\"正答率は{}\".format(true_num/(len(test_img_list))))"
      ]
    }
  ],
  "metadata": {
    "accelerator": "GPU",
    "colab": {
      "provenance": []
    },
    "gpuClass": "standard",
    "kernelspec": {
      "display_name": "Python 3",
      "name": "python3"
    },
    "language_info": {
      "name": "python"
    }
  },
  "nbformat": 4,
  "nbformat_minor": 0
}